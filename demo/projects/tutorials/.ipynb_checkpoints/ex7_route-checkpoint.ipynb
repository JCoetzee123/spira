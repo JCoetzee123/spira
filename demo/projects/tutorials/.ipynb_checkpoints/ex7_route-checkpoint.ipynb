{
 "cells": [
  {
   "cell_type": "markdown",
   "metadata": {},
   "source": [
    "# Routing\n",
    "\n",
    "A route is defined as a path polygon with terminal connections. This example creates a new route shape by inheriting from the `spira.Route` class. This route class extends from `shapes.Shape`."
   ]
  },
  {
   "cell_type": "markdown",
   "metadata": {},
   "source": [
    "## Demonstrates\n",
    "\n",
    "1. Creating a new custom route curve.\n",
    "2. Adding terminals to the route.\n",
    "3. Using the segment and arc function inherited from `gdspy`.\n",
    "4. Auto connect two terminals via a route."
   ]
  },
  {
   "cell_type": "code",
   "execution_count": 1,
   "metadata": {},
   "outputs": [
    {
     "name": "stdout",
     "output_type": "stream",
     "text": [
      "\n",
      "---------------------------------------------\n",
      "[RDD] SPiRA-default\n",
      "\n",
      "[SPiRA] Version 0.0.2-Auron - MIT License\n",
      "---------------------------------------------\n"
     ]
    }
   ],
   "source": [
    "import spira\n",
    "import numpy as np\n",
    "from spira.lgm.route.path import __Path__"
   ]
  },
  {
   "cell_type": "markdown",
   "metadata": {},
   "source": [
    "Create a new route curve by defining points as with a typical shape."
   ]
  },
  {
   "cell_type": "code",
   "execution_count": 2,
   "metadata": {},
   "outputs": [],
   "source": [
    "class RouteCurve(spira.Route):\n",
    "    \"\"\" Create a path elemental by extending gdspy.Path\n",
    "    to include dynamic parameter bindings. \"\"\"\n",
    "\n",
    "    def create_points(self, points):\n",
    "        spec = {'layer': 1, 'datatype': 1}\n",
    "        self.segment(3, '+x', **spec)\n",
    "        self.arc(2, -np.pi / 2.0, np.pi / 6.0, **spec)\n",
    "        self.segment(4, **spec)\n",
    "        self.turn(2, -2.0 * np.pi / 3.0, **spec)\n",
    "        points = self.polygons\n",
    "        return points\n",
    "\n",
    "    def create_ports(self, ports):\n",
    "        # TODO: Define the ports connected \n",
    "        # to the points here.\n",
    "        return ports"
   ]
  },
  {
   "cell_type": "code",
   "execution_count": 3,
   "metadata": {},
   "outputs": [],
   "source": [
    "cell = spira.Cell(name='Route')\n",
    "\n",
    "curve = RouteCurve(width=2, initial_point=(0,0))\n",
    "cell += spira.Polygons(shape=curve)\n",
    "\n",
    "cell.output()"
   ]
  }
 ],
 "metadata": {
  "kernelspec": {
   "display_name": "Python 3",
   "language": "python",
   "name": "python3"
  },
  "language_info": {
   "codemirror_mode": {
    "name": "ipython",
    "version": 3
   },
   "file_extension": ".py",
   "mimetype": "text/x-python",
   "name": "python",
   "nbconvert_exporter": "python",
   "pygments_lexer": "ipython3",
   "version": "3.7.1"
  }
 },
 "nbformat": 4,
 "nbformat_minor": 2
}
