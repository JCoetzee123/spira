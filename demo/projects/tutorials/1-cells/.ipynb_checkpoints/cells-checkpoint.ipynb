{
 "cells": [
  {
   "cell_type": "markdown",
   "metadata": {},
   "source": [
    "# Parameterized Cell\n",
    "\n",
    "This examples defines the creation of a basic parameterized cell, by creating a new class that inherits from the `spira.Cell` class. A meta-configuration is used to dynamically bind the class parameters to the cell instance. "
   ]
  },
  {
   "cell_type": "markdown",
   "metadata": {},
   "source": [
    "## Demonstrates\n",
    "\n",
    "1. How to create a layout generator by inheriting from Cell.\n",
    "2. How class attributes are defined as parameters.\n",
    "3. The three different ways a cell can be added to a library.\n",
    "\n",
    "First we have to import the SPiRA framework and parameters namespace. \n",
    "Parameters can be added to the PCell by defining class attributes using the \n",
    "`param` namespace. Using the `LOG` namespace allows for beatiful printing."
   ]
  },
  {
   "cell_type": "code",
   "execution_count": 1,
   "metadata": {},
   "outputs": [
    {
     "name": "stdout",
     "output_type": "stream",
     "text": [
      "\n",
      "---------------------------------------------\n",
      "[RDD] SPiRA-default\n",
      "\n",
      "[SPiRA] Version 0.0.2-Auron - MIT License\n",
      "---------------------------------------------\n"
     ]
    }
   ],
   "source": [
    "import spira\n",
    "from spira import LOG\n",
    "from spira import param\n",
    "from spira import settings"
   ]
  },
  {
   "cell_type": "markdown",
   "metadata": {},
   "source": [
    "A new pcell is created by inheriting from the spira framework. Parameters are added as class attributes, with default values set using fields."
   ]
  },
  {
   "cell_type": "code",
   "execution_count": 2,
   "metadata": {},
   "outputs": [],
   "source": [
    "class PCell(spira.Cell):\n",
    "\n",
    "    layer = param.LayerField(number=4)\n",
    "    width = param.FloatField(default=1)\n",
    "    point = param.PointArrayField(default=1)\n",
    "    coord = param.PointField()\n",
    "    iscell = param.BoolField()\n",
    "    number = param.IntegerField()"
   ]
  },
  {
   "cell_type": "markdown",
   "metadata": {},
   "source": [
    "Create a pcell instance using default values."
   ]
  },
  {
   "cell_type": "code",
   "execution_count": 3,
   "metadata": {},
   "outputs": [
    {
     "name": "stdout",
     "output_type": "stream",
     "text": [
      "[SPiRA: Cell('PCell-0')] (0 elementals: 0 sref, 0 polygons, 0 labels, 0 ports)\n",
      "[SPiRA: Layer] ('', layer 4, datatype 0)\n",
      "1\n"
     ]
    }
   ],
   "source": [
    "pcell = PCell()\n",
    "print(pcell)\n",
    "print(pcell.layer)\n",
    "print(pcell.width)"
   ]
  },
  {
   "cell_type": "markdown",
   "metadata": {},
   "source": [
    "Create a pcell instance using new parameter values."
   ]
  },
  {
   "cell_type": "code",
   "execution_count": 4,
   "metadata": {},
   "outputs": [
    {
     "name": "stdout",
     "output_type": "stream",
     "text": [
      "[SPiRA: Cell('PCell-1')] (0 elementals: 0 sref, 0 polygons, 0 labels, 0 ports)\n",
      "[SPiRA: Layer] ('', layer 9, datatype 0)\n",
      "5\n"
     ]
    }
   ],
   "source": [
    "pcell = PCell(layer=spira.Layer(number=9), width=5)\n",
    "print(pcell)\n",
    "print(pcell.layer)\n",
    "print(pcell.width)"
   ]
  },
  {
   "cell_type": "markdown",
   "metadata": {},
   "source": [
    "When a cell is created it is automatically added to SPiRA default library class. \n",
    "The currently set library can be retrieved and analyzed."
   ]
  },
  {
   "cell_type": "code",
   "execution_count": 5,
   "metadata": {},
   "outputs": [
    {
     "name": "stdout",
     "output_type": "stream",
     "text": [
      "[SPiRA: Library('SPiRA-default')] (2 cells)\n"
     ]
    }
   ],
   "source": [
    "lib_default = settings.get_library()\n",
    "print(lib_default)"
   ]
  },
  {
   "cell_type": "markdown",
   "metadata": {},
   "source": [
    "Create and add to new library"
   ]
  },
  {
   "cell_type": "code",
   "execution_count": 6,
   "metadata": {},
   "outputs": [
    {
     "name": "stdout",
     "output_type": "stream",
     "text": [
      "[SPiRA: Library('MiTLL')] (1 cells)\n"
     ]
    }
   ],
   "source": [
    "lib_new = spira.Library(name='MiTLL')\n",
    "lib_new += pcell\n",
    "print(lib_new)"
   ]
  }
 ],
 "metadata": {
  "kernelspec": {
   "display_name": "Python 3",
   "language": "python",
   "name": "python3"
  },
  "language_info": {
   "codemirror_mode": {
    "name": "ipython",
    "version": 3
   },
   "file_extension": ".py",
   "mimetype": "text/x-python",
   "name": "python",
   "nbconvert_exporter": "python",
   "pygments_lexer": "ipython3",
   "version": "3.7.1"
  }
 },
 "nbformat": 4,
 "nbformat_minor": 2
}
