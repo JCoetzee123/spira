{
 "cells": [
  {
   "cell_type": "code",
   "execution_count": 3,
   "metadata": {},
   "outputs": [
    {
     "name": "stdout",
     "output_type": "stream",
     "text": [
      "\n",
      "-> PCell instance\n",
      "[SPiRA: Cell('PCell')] (0 elementals: 0 sref, 0 polygons, 0 labels, 0 ports)\n",
      "4\n",
      "1\n",
      "\n",
      "-> PCell instance\n",
      "[SPiRA: Cell('PCell')] (0 elementals: 0 sref, 0 polygons, 0 labels, 0 ports)\n",
      "1\n",
      "[SPiRA: Layer] (number 4)\n",
      "4\n",
      "0\n",
      "\n",
      "-> Creating shapes\n"
     ]
    }
   ],
   "source": [
    "import spira\n",
    "from spira import LOG\n",
    "from spira import param\n",
    "from spira import shapes\n",
    "\n",
    "\n",
    "pcell = spira.Cell(name='PCell')\n",
    "pcell.layer = 4\n",
    "pcell.width = 1\n",
    "\n",
    "LOG.section('PCell instance')\n",
    "print(pcell)\n",
    "print(pcell.layer)\n",
    "print(pcell.width)\n",
    "\n",
    "pcell = spira.Cell(name='PCell')\n",
    "pcell.width = 1\n",
    "pcell.layer = spira.Layer(number=4)\n",
    "\n",
    "LOG.section('PCell instance')\n",
    "print(pcell)\n",
    "print(pcell.width)\n",
    "print(pcell.layer)\n",
    "print(pcell.layer.number)\n",
    "print(pcell.layer.datatype)\n",
    "\n",
    "\n",
    "LOG.section('Creating shapes')\n",
    "shape = shapes.BoxShape(center=(5,0), width=1, height=1)\n",
    "\n",
    "\n",
    "# -------------------------------------------------------------------------\n",
    "\n",
    "\n",
    "cell = spira.Cell(name='Multi-cell')\n",
    "cell += spira.SRef(pcell)\n",
    "cell.output()\n"
   ]
  }
 ],
 "metadata": {
  "kernelspec": {
   "display_name": "Python 3",
   "language": "python",
   "name": "python3"
  },
  "language_info": {
   "codemirror_mode": {
    "name": "ipython",
    "version": 3
   },
   "file_extension": ".py",
   "mimetype": "text/x-python",
   "name": "python",
   "nbconvert_exporter": "python",
   "pygments_lexer": "ipython3",
   "version": "3.7.1"
  }
 },
 "nbformat": 4,
 "nbformat_minor": 2
}
