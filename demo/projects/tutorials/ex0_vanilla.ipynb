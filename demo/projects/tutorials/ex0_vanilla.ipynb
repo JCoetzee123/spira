{
 "cells": [
  {
   "cell_type": "markdown",
   "metadata": {},
   "source": [
    "# Vanilla Examples\n",
    "\n",
    "Layout elementals can be generated using the native scripting approach, similar to \n",
    "that of the gdspy library. This approach can be used for quick layout experiments, \n",
    "were the connected parameters are not of critical importance."
   ]
  },
  {
   "cell_type": "markdown",
   "metadata": {},
   "source": [
    "## Demonstrates\n",
    "\n",
    "1. Creating a vanilla layout elemental.\n",
    "2. Connecting parameters to a cell using Python's dynamic nature."
   ]
  },
  {
   "cell_type": "markdown",
   "metadata": {},
   "source": [
    "## Problems\n",
    "\n",
    "1. Constraints cannot be placed on parameters.\n",
    "2. There is no overview places on the parameters that can or should\n",
    "   connected to a specific instance.\n",
    "3. Creating hierarchical layouts becomes syntactically tedious."
   ]
  },
  {
   "cell_type": "code",
   "execution_count": 1,
   "metadata": {},
   "outputs": [
    {
     "name": "stdout",
     "output_type": "stream",
     "text": [
      "\n",
      "---------------------------------------------\n",
      "[RDD] SPiRA-default\n",
      "\n",
      "[SPiRA] Version 0.0.2-Auron - MIT License\n",
      "---------------------------------------------\n"
     ]
    }
   ],
   "source": [
    "import spira\n",
    "from spira import LOG\n",
    "from spira import param\n",
    "from spira import shapes"
   ]
  },
  {
   "cell_type": "code",
   "execution_count": 8,
   "metadata": {},
   "outputs": [],
   "source": [
    "pcell = spira.Cell(name='PCell')\n",
    "pcell.layer = 4\n",
    "pcell.width = 1"
   ]
  },
  {
   "cell_type": "markdown",
   "metadata": {},
   "source": [
    "Create a cell and dynamically add parameters without type checking or constraints."
   ]
  },
  {
   "cell_type": "code",
   "execution_count": 6,
   "metadata": {},
   "outputs": [
    {
     "name": "stdout",
     "output_type": "stream",
     "text": [
      "\n",
      "-> PCell instance\n",
      "[SPiRA: Cell('PCell')] (1 elementals: 0 sref, 1 polygons, 0 labels, 0 ports)\n",
      "4\n",
      "1\n"
     ]
    }
   ],
   "source": [
    "LOG.section('PCell instance')\n",
    "print(pcell)\n",
    "print(pcell.layer)\n",
    "print(pcell.width)"
   ]
  },
  {
   "cell_type": "markdown",
   "metadata": {},
   "source": [
    "Create a shape and add it to a cell."
   ]
  },
  {
   "cell_type": "code",
   "execution_count": 7,
   "metadata": {},
   "outputs": [
    {
     "name": "stdout",
     "output_type": "stream",
     "text": [
      "\n",
      "-> Creating shapes\n",
      "[SPiRA: BoxShape]\n"
     ]
    }
   ],
   "source": [
    "LOG.section('Creating shapes')\n",
    "shape = shapes.BoxShape(center=(5,0), width=1, height=1)\n",
    "pcell += spira.Polygons(shape=shape, gdslayer=spira.Layer(number=46))\n",
    "print(shape)"
   ]
  },
  {
   "cell_type": "markdown",
   "metadata": {},
   "source": [
    "Add cell as a cell reference and plot the layout."
   ]
  },
  {
   "cell_type": "code",
   "execution_count": 5,
   "metadata": {},
   "outputs": [],
   "source": [
    "cell = spira.Cell(name='Multi-cell')\n",
    "cell += spira.SRef(pcell)\n",
    "cell.output()"
   ]
  },
  {
   "cell_type": "code",
   "execution_count": null,
   "metadata": {},
   "outputs": [],
   "source": []
  }
 ],
 "metadata": {
  "kernelspec": {
   "display_name": "Python 3",
   "language": "python",
   "name": "python3"
  },
  "language_info": {
   "codemirror_mode": {
    "name": "ipython",
    "version": 3
   },
   "file_extension": ".py",
   "mimetype": "text/x-python",
   "name": "python",
   "nbconvert_exporter": "python",
   "pygments_lexer": "ipython3",
   "version": "3.7.1"
  }
 },
 "nbformat": 4,
 "nbformat_minor": 2
}
