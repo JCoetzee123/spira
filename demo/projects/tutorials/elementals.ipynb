{
 "cells": [
  {
   "cell_type": "markdown",
   "metadata": {},
   "source": [
    "# Elementals\n",
    "\n",
    "Now that we have a basic understanding of creating a cell and connecting data to an instance,\n",
    "we have to add layout elementals to represent GDSII primitives. All elementals defined in the \n",
    "`create_elementals` method are automatically added to the instance."
   ]
  },
  {
   "cell_type": "markdown",
   "metadata": {},
   "source": [
    "## Demonstrates\n",
    "\n",
    "1. How to add elementals to a cell using the `create_elementals` method.\n",
    "2. Create a polygon using the framework and add it to the cell.\n",
    "3. How to use the parameters when creating elementals.\n",
    "4. How to write to a GDSII file.\n",
    "\n",
    "Depicted in this example is the three different ways of creating a polygon."
   ]
  },
  {
   "cell_type": "code",
   "execution_count": 1,
   "metadata": {},
   "outputs": [
    {
     "name": "stdout",
     "output_type": "stream",
     "text": [
      "\n",
      "---------------------------------------------\n",
      "[RDD] SPiRA-default\n",
      "\n",
      "[SPiRA] Version 0.0.2-Auron - MIT License\n",
      "---------------------------------------------\n"
     ]
    }
   ],
   "source": [
    "import spira\n",
    "from spira import param\n",
    "from spira import shapes\n",
    "from spira import LOG\n",
    "\n",
    "RDD = spira.get_rule_deck()"
   ]
  },
  {
   "cell_type": "markdown",
   "metadata": {},
   "source": [
    "Add polygon elementals to a cell using three different methods."
   ]
  },
  {
   "cell_type": "code",
   "execution_count": 2,
   "metadata": {},
   "outputs": [],
   "source": [
    "class PCell(spira.Cell):\n",
    "\n",
    "    layer = param.LayerField(number=RDD.BAS.LAYER.number)\n",
    "    width = param.FloatField(default=RDD.BAS.WIDTH)\n",
    "\n",
    "    def create_elementals(self, elems):\n",
    "        p1 = [[[0,0], [3,0], [3,1], [0,1]]]\n",
    "        p2 = [[[4,0], [7,0], [7,1], [4,1]]]\n",
    "        p3 = [[[8,0], [11,0], [11,1], [8,1]]]\n",
    "\n",
    "        # Create polygon using class parameters.\n",
    "        elems += spira.Polygons(p1, gdslayer=self.layer)\n",
    "\n",
    "        # Create polygon using new layer number.\n",
    "        elems += spira.Polygons(\n",
    "            shape=p2,\n",
    "            gdslayer=spira.Layer(number=77)\n",
    "        )\n",
    "\n",
    "        # Create polygon using new shape, number and datatype.\n",
    "        elems += spira.Polygons(\n",
    "            shape=shapes.Shape(points=p3),\n",
    "            gdslayer=spira.Layer(number=51, datatype=1)\n",
    "        )\n",
    "\n",
    "        return elems"
   ]
  },
  {
   "cell_type": "markdown",
   "metadata": {},
   "source": [
    "View the generated layout."
   ]
  },
  {
   "cell_type": "code",
   "execution_count": 3,
   "metadata": {},
   "outputs": [],
   "source": [
    "pcell = PCell()\n",
    "pcell.output()"
   ]
  }
 ],
 "metadata": {
  "kernelspec": {
   "display_name": "Python 3",
   "language": "python",
   "name": "python3"
  },
  "language_info": {
   "codemirror_mode": {
    "name": "ipython",
    "version": 3
   },
   "file_extension": ".py",
   "mimetype": "text/x-python",
   "name": "python",
   "nbconvert_exporter": "python",
   "pygments_lexer": "ipython3",
   "version": "3.7.1"
  }
 },
 "nbformat": 4,
 "nbformat_minor": 2
}
