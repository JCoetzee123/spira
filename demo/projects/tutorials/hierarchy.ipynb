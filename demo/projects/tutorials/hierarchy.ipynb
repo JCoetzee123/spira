{
 "cells": [
  {
   "cell_type": "markdown",
   "metadata": {},
   "source": [
    "# Hierarchy\n",
    "\n",
    "This example follows from the `ports` example and shows how the framework can be used to create hierarchical structures."
   ]
  },
  {
   "cell_type": "markdown",
   "metadata": {},
   "source": [
    "## Demonstrates\n",
    "\n",
    "1. Create a polygon structure that can be inherited for multiple use.\n",
    "2. Create a cell containing both a terminal and a port."
   ]
  },
  {
   "cell_type": "code",
   "execution_count": 6,
   "metadata": {},
   "outputs": [],
   "source": [
    "import spira\n",
    "from spira import param\n",
    "from spira import shapes\n",
    "\n",
    "RDD = spira.get_rule_deck()"
   ]
  },
  {
   "cell_type": "markdown",
   "metadata": {},
   "source": [
    "General polygon cell, which can be extended,"
   ]
  },
  {
   "cell_type": "code",
   "execution_count": 7,
   "metadata": {},
   "outputs": [],
   "source": [
    "class PolygonGenerator(spira.Cell):\n",
    "\n",
    "    width = param.FloatField(default=10)\n",
    "    height = param.FloatField(default=1)\n",
    "\n",
    "    def create_elementals(self, elems):\n",
    "        shape = shapes.BoxShape(center=(5,0), width=self.width, height=self.height)\n",
    "        elems += spira.Polygons(shape=shape)\n",
    "        return elems"
   ]
  },
  {
   "cell_type": "markdown",
   "metadata": {},
   "source": [
    "Extend polygon with terminals."
   ]
  },
  {
   "cell_type": "code",
   "execution_count": 8,
   "metadata": {},
   "outputs": [],
   "source": [
    "class TerminalExample(PolygonGenerator):\n",
    "\n",
    "    def create_ports(self, ports):\n",
    "        ports += spira.Term(name='P1', midpoint=(0,0), width=self.height)\n",
    "        ports += spira.Term(name='P2', midpoint=(10,0), width=self.height, orientation=180)\n",
    "        return ports"
   ]
  },
  {
   "cell_type": "markdown",
   "metadata": {},
   "source": [
    "Extend polygon with ports."
   ]
  },
  {
   "cell_type": "code",
   "execution_count": 9,
   "metadata": {},
   "outputs": [],
   "source": [
    "class PortExample(PolygonGenerator):\n",
    "\n",
    "    def create_ports(self, ports):\n",
    "        ports += spira.Port(name='P1', midpoint=(0,0))\n",
    "        ports += spira.Port(name='P2', midpoint=(10,0))\n",
    "        return ports"
   ]
  },
  {
   "cell_type": "markdown",
   "metadata": {},
   "source": [
    "Extend polygon with a terminal and port."
   ]
  },
  {
   "cell_type": "code",
   "execution_count": 10,
   "metadata": {},
   "outputs": [],
   "source": [
    "class TermPortExample(PolygonGenerator):\n",
    "\n",
    "    def create_ports(self, ports):\n",
    "        ports += spira.Port(name='P1', midpoint=(0,0))\n",
    "        ports += spira.Term(name='P2', midpoint=(10,0), width=self.height, orientation=180)\n",
    "        return ports"
   ]
  },
  {
   "cell_type": "markdown",
   "metadata": {},
   "source": [
    "We can manipulate the generated cells as shown below."
   ]
  },
  {
   "cell_type": "code",
   "execution_count": 11,
   "metadata": {},
   "outputs": [],
   "source": [
    "topcell = spira.Cell('TopCell')\n",
    "\n",
    "t1 = spira.SRef(TerminalExample())\n",
    "p1 = spira.SRef(PortExample(), midpoint=(0, 10))\n",
    "tp = spira.SRef(TermPortExample(), midpoint=(0, 20))\n",
    "\n",
    "t1.rotate(angle=45)\n",
    "t1.translate(dx=-10, dy=0)\n",
    "t1.reflect()\n",
    "\n",
    "p1.rotate(angle=510)\n",
    "p1.translate(dx=5, dy=20)\n",
    "p1.reflect()\n",
    "\n",
    "topcell += t1\n",
    "topcell += p1\n",
    "topcell += tp\n",
    "\n",
    "topcell.output()"
   ]
  }
 ],
 "metadata": {
  "kernelspec": {
   "display_name": "Python 3",
   "language": "python",
   "name": "python3"
  },
  "language_info": {
   "codemirror_mode": {
    "name": "ipython",
    "version": 3
   },
   "file_extension": ".py",
   "mimetype": "text/x-python",
   "name": "python",
   "nbconvert_exporter": "python",
   "pygments_lexer": "ipython3",
   "version": "3.7.1"
  }
 },
 "nbformat": 4,
 "nbformat_minor": 2
}
